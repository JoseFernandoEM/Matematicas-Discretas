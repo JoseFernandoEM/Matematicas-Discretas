{
 "cells": [
  {
   "cell_type": "markdown",
   "id": "e10d89d8-6930-46f0-a40e-2e567f1515ea",
   "metadata": {},
   "source": [
    "# Maquina de Turing en python"
   ]
  },
  {
   "cell_type": "markdown",
   "id": "da7ba0d4-f01f-4c6e-bfdb-b90d6fa0518f",
   "metadata": {},
   "source": [
    "### Definicion de la clase MaquinaTuring, metodo step() y metodo run()"
   ]
  },
  {
   "cell_type": "code",
   "execution_count": 1,
   "id": "eb7ff86b-6fd6-408b-8ec9-6313f990bdf0",
   "metadata": {},
   "outputs": [],
   "source": [
    "class MaquinaTuring:\n",
    "    def __init__(self, transiciones):\n",
    "        self.transiciones = transiciones\n",
    "        self.posicion_cabeza = 0\n",
    "        self.estado_actual = 'q0'\n",
    "        self.cinta = ['_']\n",
    "\n",
    "    def step(self):\n",
    "        simbolo_actual = self.cinta[self.posicion_cabeza]\n",
    "        if (self.estado_actual, simbolo_actual) in self.transiciones:\n",
    "            nuevo_estado, nuevo_simbolo, direccion = self.transiciones[(self.estado_actual, simbolo_actual)]\n",
    "            self.cinta[self.posicion_cabeza] = nuevo_simbolo\n",
    "            self.estado_actual = nuevo_estado\n",
    "            if direccion == 'R':\n",
    "                self.posicion_cabeza += 1\n",
    "                if self.posicion_cabeza == len(self.cinta):\n",
    "                    self.cinta.append('_')\n",
    "            elif direccion == 'L':\n",
    "                if self.posicion_cabeza == 0:\n",
    "                    self.cinta.insert(0, '_')\n",
    "                else:\n",
    "                    self.posicion_cabeza -= 1\n",
    "            return True\n",
    "        else:\n",
    "            return False\n",
    "\n",
    "    def run(self, cadena_entrada):\n",
    "        self.cinta = ['_'] + list(cadena_entrada) + ['_']\n",
    "        self.posicion_cabeza = 1\n",
    "        self.estado_actual = 'q0'\n",
    "\n",
    "        while True:\n",
    "            if self.estado_actual == 'q_aceptar':\n",
    "                return True\n",
    "            elif self.estado_actual == 'q_rechazar':\n",
    "                return False\n",
    "            elif not self.step():\n",
    "                return False"
   ]
  },
  {
   "cell_type": "markdown",
   "id": "f850726d-49da-4151-b4cf-79a94ff24b45",
   "metadata": {},
   "source": [
    "La clase MaquinaTuring se define con un método init que inicializa la máquina con las transiciones dadas, la posición inicial de la cabeza en la cinta, el estado actual y una cinta que comienza con un símbolo '_'."
   ]
  },
  {
   "cell_type": "markdown",
   "id": "ca00d6ea-d720-4949-a8fc-cad70b8a9e2f",
   "metadata": {},
   "source": [
    "El método step() avanza la máquina de Turing un paso. Primero, lee el símbolo actual en la cinta y verifica si hay una transición definida para ese estado y símbolo. Si existe una transición, actualiza el símbolo en la cinta, el estado actual y mueve la cabeza de lectura/escritura de acuerdo a la dirección especificada en la transición."
   ]
  },
  {
   "cell_type": "markdown",
   "id": "77d7b1c6-cfd9-43e5-9301-f207209b197a",
   "metadata": {},
   "source": [
    "El método run() ejecuta la máquina de Turing con una cadena de entrada. Prepara la cinta con la cadena de entrada y ejecuta un bucle hasta que la máquina llegue a un estado de aceptación o rechazo. Si la máquina acepta la entrada, devuelve True; si la rechaza o no puede continuar, devuelve False."
   ]
  },
  {
   "cell_type": "markdown",
   "id": "1d94aa77-1ef4-4414-afc2-24a73ac8b6b1",
   "metadata": {},
   "source": [
    "### Definición de las transiciones y creación de la máquina de Turing"
   ]
  },
  {
   "cell_type": "code",
   "execution_count": 2,
   "id": "3154f049-200b-49d0-bd4e-419db3bf0505",
   "metadata": {},
   "outputs": [],
   "source": [
    "transiciones = {\n",
    "    ('q0', '0'): ('q1', '1', 'R'),\n",
    "    ('q0', '1'): ('q1', '0', 'R'),\n",
    "    ('q1', '0'): ('q_aceptar', '0', 'L'),\n",
    "    ('q1', '1'): ('q_aceptar', '1', 'L'),\n",
    "}\n",
    "\n",
    "mt = MaquinaTuring(transiciones)"
   ]
  },
  {
   "cell_type": "markdown",
   "id": "0f01304a-3772-40c6-9cf7-8fc1a2cf769d",
   "metadata": {},
   "source": [
    "Se definen las transiciones de la máquina de Turing como un diccionario. Las claves son tuplas que representan el estado actual y el símbolo actual en la cinta. Los valores son tuplas que indican el nuevo estado, el nuevo símbolo que se escribe en la cinta y la dirección en la que se mueve la cabeza de lectura/escritura. Luego, se crea una instancia de la clase MaquinaTuring utilizando estas transiciones."
   ]
  },
  {
   "cell_type": "markdown",
   "id": "ed743d45-3b3c-4d49-aa5d-b247c6b1c3a9",
   "metadata": {},
   "source": [
    "### Ejecución de la máquina de Turing con una cadena de entrada"
   ]
  },
  {
   "cell_type": "code",
   "execution_count": 3,
   "id": "197d39f9-1a51-4b96-bde6-dff22da15f45",
   "metadata": {},
   "outputs": [
    {
     "name": "stdout",
     "output_type": "stream",
     "text": [
      "La máquina de Turing aceptó la cadena.\n"
     ]
    }
   ],
   "source": [
    "cadena_entrada = '10101'\n",
    "resultado = mt.run(cadena_entrada)\n",
    "if resultado:\n",
    "    print(\"La máquina de Turing aceptó la cadena.\")\n",
    "else:\n",
    "    print(\"La máquina de Turing rechazó la cadena.\")"
   ]
  },
  {
   "cell_type": "markdown",
   "id": "cea2250b-222f-4e26-867b-28783c76ef48",
   "metadata": {},
   "source": [
    "Se ejecuta la máquina de Turing con una cadena de entrada dada ('10101' en este caso). Se imprime un mensaje indicando si la máquina aceptó o rechazó la cadena."
   ]
  }
 ],
 "metadata": {
  "kernelspec": {
   "display_name": "Python 3 (ipykernel)",
   "language": "python",
   "name": "python3"
  },
  "language_info": {
   "codemirror_mode": {
    "name": "ipython",
    "version": 3
   },
   "file_extension": ".py",
   "mimetype": "text/x-python",
   "name": "python",
   "nbconvert_exporter": "python",
   "pygments_lexer": "ipython3",
   "version": "3.11.7"
  }
 },
 "nbformat": 4,
 "nbformat_minor": 5
}
